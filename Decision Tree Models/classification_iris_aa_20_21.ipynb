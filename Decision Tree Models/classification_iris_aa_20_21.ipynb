{
  "nbformat": 4,
  "nbformat_minor": 0,
  "metadata": {
    "anaconda-cloud": {},
    "kernelspec": {
      "display_name": "Python 3.8.2 64-bit ('pyVenv': venv)",
      "language": "python",
      "name": "python38264bitpyvenvvenvfb459162cc1f434bbd30fc792f4f9d8c"
    },
    "language_info": {
      "codemirror_mode": {
        "name": "ipython",
        "version": 2
      },
      "file_extension": ".py",
      "mimetype": "text/x-python",
      "name": "python",
      "nbconvert_exporter": "python",
      "pygments_lexer": "ipython2",
      "version": "3.8.5-final"
    },
    "colab": {
      "name": "classification_iris_aa_19_20.ipynb",
      "provenance": [],
      "toc_visible": true
    }
  },
  "cells": [
    {
      "cell_type": "markdown",
      "metadata": {
        "id": "KEKy3XmT7H-U"
      },
      "source": [
        "## Classifiers introduction\n",
        "\n",
        "In the following program we introduce the basic steps of classification of a dataset in a matrix"
      ]
    },
    {
      "cell_type": "markdown",
      "metadata": {
        "id": "btrnWCpJ7H-W"
      },
      "source": [
        "Import the package for learning and modeling trees"
      ]
    },
    {
      "cell_type": "code",
      "metadata": {
        "scrolled": true,
        "id": "QFXKb7yA7H-X"
      },
      "source": [
        "from sklearn import tree "
      ],
      "execution_count": null,
      "outputs": []
    },
    {
      "cell_type": "markdown",
      "metadata": {
        "id": "1Sx9T_yz7H-f"
      },
      "source": [
        "Define the matrix containing the data (one example per row)\n",
        "and the vector containing the corresponding target value"
      ]
    },
    {
      "cell_type": "code",
      "metadata": {
        "id": "HDFiRDXq7H-g"
      },
      "source": [
        "X = [[0, 0, 0], [1, 1, 1], [0, 1, 0], [0, 0, 1], [1, 1, 0], [1, 0, 1]]\n",
        "Y = [1, 0, 0, 0, 1, 1]"
      ],
      "execution_count": null,
      "outputs": []
    },
    {
      "source": [
        "Declare the classification model you want to use and then fit he model to the data"
      ],
      "cell_type": "markdown",
      "metadata": {}
    },
    {
      "cell_type": "code",
      "metadata": {
        "id": "RbHJM2ur7H-o"
      },
      "source": [
        "clf = tree.DecisionTreeClassifier()\n",
        "clf = clf.fit(X, Y)"
      ],
      "execution_count": null,
      "outputs": []
    },
    {
      "source": [
        "Predict the target value (and print it) for the passed data, using the fitted model currently in clf"
      ],
      "cell_type": "markdown",
      "metadata": {
        "id": "lUtyP-xO7H-t"
      }
    },
    {
      "cell_type": "code",
      "metadata": {
        "id": "RTo8XvPr7H-v",
        "outputId": "f2c67b3c-9ce6-4dfb-e69f-ce9120823c53"
      },
      "source": [
        "print(clf.predict([[0, 1, 1]]))"
      ],
      "execution_count": null,
      "outputs": []
    },
    {
      "cell_type": "code",
      "metadata": {
        "id": "ncK8CxO17H-0",
        "outputId": "5f2abb14-eb54-4b2e-b1af-cdc13bc6a40e"
      },
      "source": [
        "print(clf.predict([[1, 0, 1],[0, 0, 1]]))"
      ],
      "execution_count": null,
      "outputs": []
    },
    {
      "cell_type": "code",
      "metadata": {
        "id": "qP9sNQ2t7H-5",
        "outputId": "7b57e3de-e2a2-4b38-f699-c6c2106e1bf0"
      },
      "source": [
        "import graphviz \n",
        "dot_data = tree.export_graphviz(clf, out_file=None)  \n",
        "graph = graphviz.Source(dot_data)  \n",
        "graph"
      ],
      "execution_count": null,
      "outputs": []
    },
    {
      "cell_type": "markdown",
      "metadata": {
        "id": "9oCMYXsO7H--"
      },
      "source": [
        "In the following we start using a dataset (from UCI Machine Learning repository)"
      ]
    },
    {
      "cell_type": "code",
      "metadata": {
        "id": "QICMJ0rv7H-_"
      },
      "source": [
        "from sklearn.datasets import load_iris\n",
        "iris = load_iris()"
      ],
      "execution_count": null,
      "outputs": []
    },
    {
      "cell_type": "markdown",
      "metadata": {
        "id": "JzZnLA4N7H_D"
      },
      "source": [
        "# Declare the type of prediction model and the working criteria for the model induction algorithm"
      ]
    },
    {
      "cell_type": "code",
      "metadata": {
        "id": "Ul-cA4Hv7H_E"
      },
      "source": [
        "clf = tree.DecisionTreeClassifier(criterion=\"entropy\",random_state=300,min_samples_leaf=5,class_weight={0:1,1:1,2:1})"
      ],
      "execution_count": null,
      "outputs": []
    },
    {
      "cell_type": "markdown",
      "metadata": {
        "id": "iqH8H1UD7H_H"
      },
      "source": [
        "# Split the dataset in training and test set"
      ]
    },
    {
      "cell_type": "code",
      "metadata": {
        "id": "gSKsWOoz7H_I"
      },
      "source": [
        "# Generate a random permutation of the indices of examples that will be later used \n",
        "# for the training and the test set\n",
        "import numpy as np\n",
        "np.random.seed(0)\n",
        "indices = np.random.permutation(len(iris.data)) #lenght of the matrix\n",
        "\n",
        "# We now decide to keep the last 10 indices for test set, the remaining for the training set\n",
        "indices_training=indices[:-10]\n",
        "indices_test=indices[-10:]\n",
        "\n",
        "iris_X_train = iris.data[indices_training] # keep for training all the matrix elements with the exception of the last 10 \n",
        "iris_y_train = iris.target[indices_training]\n",
        "iris_X_test  = iris.data[indices_test] # keep the last 10 elements for test set\n",
        "iris_y_test  = iris.target[indices_test]"
      ],
      "execution_count": null,
      "outputs": []
    },
    {
      "cell_type": "markdown",
      "metadata": {
        "id": "vNbXUYI07H_K"
      },
      "source": [
        "# Fit the learning model on training set"
      ]
    },
    {
      "cell_type": "code",
      "metadata": {
        "id": "1A3MqXZs7H_L"
      },
      "source": [
        "# fit the model to the training data\n",
        "clf = clf.fit(iris_X_train, iris_y_train)"
      ],
      "execution_count": null,
      "outputs": []
    },
    {
      "cell_type": "markdown",
      "metadata": {
        "id": "FPdjlWZB7H_P"
      },
      "source": [
        "# Obtain predictions"
      ]
    },
    {
      "cell_type": "code",
      "metadata": {
        "id": "qMP6rS-97H_P",
        "outputId": "e0f9707c-5465-4128-9eb2-0c43f4a3f75b"
      },
      "source": [
        "# apply fitted model \"clf\" to the test set \n",
        "predicted_y_test = clf.predict(iris_X_test)\n",
        "\n",
        "# print the predictions (class numbers associated to classes names in target names)\n",
        "print(\"Predictions:\")\n",
        "print(predicted_y_test)\n",
        "print(\"True classes:\")\n",
        "print(iris_y_test) \n",
        "print(iris.target_names)"
      ],
      "execution_count": null,
      "outputs": []
    },
    {
      "cell_type": "markdown",
      "metadata": {
        "id": "8TZyuYLx7H_T"
      },
      "source": [
        "Print the index of the test instances and the corresponding predictions"
      ]
    },
    {
      "cell_type": "code",
      "metadata": {
        "id": "qRz0f9NK7H_T",
        "outputId": "4a04bd5b-ee05-491d-8cac-adcfd17fb81f"
      },
      "source": [
        "# print the corresponding instances indexes and class names \n",
        "for i in range(len(iris_y_test)): \n",
        "    print(\"Instance # \"+str(indices_test[i])+\": \")\n",
        "    print(\"Predicted: \"+iris.target_names[predicted_y_test[i]]+\"\\t True: \"+iris.target_names[iris_y_test[i]]+\"\\n\")"
      ],
      "execution_count": null,
      "outputs": []
    },
    {
      "cell_type": "markdown",
      "metadata": {
        "id": "yj3hYAqQ7H_W"
      },
      "source": [
        "# Look at the specific examples"
      ]
    },
    {
      "cell_type": "code",
      "metadata": {
        "id": "HGKB-S6b7H_X",
        "outputId": "819c7ba9-56a8-41dc-f61e-d59a1a893ffe"
      },
      "source": [
        "for i in range(len(iris_y_test)): \n",
        "    print(\"Instance # \"+str(indices_test[i])+\": \")\n",
        "    s=\"\"\n",
        "    for j in range(len(iris.feature_names)):\n",
        "        s=s+iris.feature_names[j]+\"=\"+str(iris_X_test[i][j])\n",
        "        if (j<len(iris.feature_names)-1): s=s+\", \"\n",
        "    print(s)\n",
        "    print(\"Predicted: \"+iris.target_names[predicted_y_test[i]]+\"\\t True: \"+iris.target_names[iris_y_test[i]]+\"\\n\")"
      ],
      "execution_count": null,
      "outputs": []
    },
    {
      "cell_type": "markdown",
      "metadata": {
        "id": "r9zos0wm7H_Z"
      },
      "source": [
        "# Obtain model performance results"
      ]
    },
    {
      "cell_type": "code",
      "metadata": {
        "id": "HBNKQQqa7H_a",
        "outputId": "09c73bd7-5f55-4409-8958-0705aa4b73be"
      },
      "source": [
        "# print some metrics results\n",
        "from sklearn.metrics import accuracy_score\n",
        "from sklearn.metrics import f1_score \n",
        "acc_score = accuracy_score(iris_y_test, predicted_y_test)\n",
        "print(\"Accuracy score: \"+ str(acc_score))\n",
        "f1=f1_score(iris_y_test, predicted_y_test, average='macro') # what is this score = macro avg between recall and precison\n",
        "print(\"F1 score: \"+str(f1))"
      ],
      "execution_count": null,
      "outputs": []
    },
    {
      "cell_type": "code",
      "execution_count": null,
      "metadata": {},
      "outputs": [],
      "source": []
    },
    {
      "cell_type": "markdown",
      "metadata": {
        "id": "MNO0xcGq7H_c"
      },
      "source": [
        "# Use Cross Validation\n",
        "\n",
        "la tecnica che consiste nel dividere i dati in sottoinsiemi e usarne uno a turno come test mentre i restanti come training"
      ]
    },
    {
      "cell_type": "code",
      "metadata": {
        "id": "wmt414Lm7H_c",
        "outputId": "da09947d-d490-4717-cd7c-c2c544a0d261"
      },
      "source": [
        "from sklearn.model_selection import cross_val_score # will be used to separate training and test\n",
        "clf_cross = clf.fit(iris.data, iris.target)\n",
        "scores = cross_val_score(clf_cross, iris.data, iris.target, cv=10) # score will be the accuracy\n",
        "print(scores)"
      ],
      "execution_count": null,
      "outputs": []
    },
    {
      "cell_type": "code",
      "metadata": {
        "id": "P-rd5Dq77H_e",
        "outputId": "0c1f75ee-948a-4184-a9f1-7c10a7747aeb"
      },
      "source": [
        "# computes F1- score\n",
        "f1_scores = cross_val_score(clf_cross, iris.data, iris.target, cv=10, scoring='f1_macro')\n",
        "print(f1_scores)"
      ],
      "execution_count": null,
      "outputs": []
    },
    {
      "cell_type": "markdown",
      "metadata": {
        "id": "qcnegz_A7H_h"
      },
      "source": [
        "# Show the resulting tree "
      ]
    },
    {
      "cell_type": "markdown",
      "metadata": {
        "id": "hrA-f0e27H_i"
      },
      "source": [
        "## 1. Print the picture in a PDF file"
      ]
    },
    {
      "cell_type": "code",
      "metadata": {
        "scrolled": false,
        "id": "rPYEWkcH7H_i",
        "outputId": "28d4261a-7ad1-47a1-ab5d-a0583bfc014d"
      },
      "source": [
        "dot_data = tree.export_graphviz(clf, out_file=None) \n",
        "graph = graphviz.Source(dot_data) \n",
        "graph.render(\"my_iris_predictions\")"
      ],
      "execution_count": null,
      "outputs": []
    },
    {
      "cell_type": "markdown",
      "metadata": {
        "id": "iM67N3vc7H_k"
      },
      "source": [
        "## 2. Generate a picture here"
      ]
    },
    {
      "cell_type": "code",
      "metadata": {
        "id": "prgjDOka7H_l",
        "outputId": "2263ea70-f260-4933-80f3-63bc23d00ace"
      },
      "source": [
        "print(list(iris.feature_names))\n",
        "print(list(iris.target_names))"
      ],
      "execution_count": null,
      "outputs": []
    },
    {
      "cell_type": "code",
      "metadata": {
        "id": "Pr32sBno7H_n",
        "outputId": "6f741234-c217-448b-b711-ed46e541e862"
      },
      "source": [
        "dot_data = tree.export_graphviz(clf, out_file=None, \n",
        "                         feature_names=iris.feature_names, \n",
        "                         class_names=iris.target_names, \n",
        "                         filled=True, rounded=True,  \n",
        "                         special_characters=True)  \n",
        "graph = graphviz.Source(dot_data)  \n",
        "graph"
      ],
      "execution_count": null,
      "outputs": []
    },
    {
      "cell_type": "markdown",
      "metadata": {
        "id": "zzHbGJsTOoQU"
      },
      "source": [
        ""
      ]
    }
  ]
}