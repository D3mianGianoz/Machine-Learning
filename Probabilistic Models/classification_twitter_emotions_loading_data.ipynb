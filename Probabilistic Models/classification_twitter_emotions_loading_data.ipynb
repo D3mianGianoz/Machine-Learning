{
  "nbformat": 4,
  "nbformat_minor": 0,
  "metadata": {
    "anaconda-cloud": {},
    "kernelspec": {
      "display_name": "Python 3.8.5 64-bit",
      "metadata": {
        "interpreter": {
          "hash": "43dc7463f0fcfaf697fb20fe523f592a92136fffc222679ff138d1a252a3d6ec"
        }
      },
      "name": "python3"
    },
    "language_info": {
      "codemirror_mode": {
        "name": "ipython",
        "version": 3
      },
      "file_extension": ".py",
      "mimetype": "text/x-python",
      "name": "python",
      "nbconvert_exporter": "python",
      "pygments_lexer": "ipython3",
      "version": "3.8.5"
    },
    "colab": {
      "name": "classification_twitter_emotions_loading_data.ipynb",
      "provenance": [],
      "include_colab_link": true
    }
  },
  "cells": [
    {
      "cell_type": "markdown",
      "metadata": {
        "id": "view-in-github",
        "colab_type": "text"
      },
      "source": [
        "<a href=\"https://colab.research.google.com/github/D3mianGianoz/Machine-Learning/blob/master/Probabilistic%20Models/classification_twitter_emotions_loading_data.ipynb\" target=\"_parent\"><img src=\"https://colab.research.google.com/assets/colab-badge.svg\" alt=\"Open In Colab\"/></a>"
      ]
    },
    {
      "cell_type": "markdown",
      "metadata": {
        "id": "XmVDmjUQstuN"
      },
      "source": [
        "# Classifiers comparison on texts with naive Bayes assumption\n",
        "\n",
        "## In this session of laboratory we compare two models for categorical data probabilistic modeling: \n",
        "## 1. multivariate Bernoulli \n",
        "## 2. multinomial on a dataset \n",
        "\n",
        "We adopt a dataset on Twitter messages labelled with emotions (Joy vs Sadness).\n",
        "\n",
        "The following program shows the loading of the data from a file."
      ]
    },
    {
      "cell_type": "markdown",
      "metadata": {
        "id": "gjJgg9LkstuN"
      },
      "source": [
        "## Data are loaded into a matrix X adopting a sparse matrix representation, in order to save space and time.\n",
        "## Sparse matrix representation (in the csr format) represents in three \"parallel\" arrays the value of the matrix cells that are different from zero and the indices of those matrix cells.\n",
        "### The arrays are called: \n",
        "- data\n",
        "- row\n",
        "- col\n",
        "\n",
        "### and each of them has different data:\n",
        "- data[i] stores the value of the matrix cell #i whose indexes are contained in row[i] and col[i] \n",
        "- row[i] stores the index of the row in the matrix of the cell #i, \n",
        "- col[i] stores the index of the column of the cell #i.\n"
      ]
    },
    {
      "cell_type": "markdown",
      "metadata": {
        "id": "zOvlPPIVstuN"
      },
      "source": [
        "## The data file is in csv format.\n",
        "## Any Twitter message has been preprocessed by a Natural Language pipeline which eliminated stop words and substituted the interesting document elements with an integer identifier.\n",
        "## The interesting document elements might be words, emoji or emoticons. The elements could be repeated in the same document and are uniquely identified in the documents by the same integer number.\n",
        "\n",
        "## Each row of the dataset is a list of integer number pairs, followed by a string which is the label of the document (Joy or sadness). \n",
        "## The first number of the pair is an identifier of an element (word, emoji or emoticon) and the second number of the pair is the count (frequency) of that element in that document.\n",
        "\n",
        "### The dataset has:\n",
        "## tot_n_docs  =  n_rows  =  11981\n",
        "## n_features (document elements)  =  11288\n",
        "\n"
      ]
    },
    {
      "cell_type": "markdown",
      "metadata": {
        "collapsed": true,
        "id": "Av4oMADtstuN"
      },
      "source": [
        "The following program reads the data file and loads in a sparse way the matrix using the scipy.sparse library"
      ]
    },
    {
      "cell_type": "code",
      "metadata": {
        "id": "Xl8QKFMNstuN",
        "outputId": "25e9e5e7-9fba-4d91-dd7e-49ce92533eea",
        "colab": {
          "base_uri": "https://localhost:8080/"
        }
      },
      "source": [
        "# from numpy import ndarray, zeros\n",
        "import numpy as np\n",
        "from scipy.sparse import csr_matrix\n",
        "\n",
        "class_labels = [\"Joy\",\"Sadness\"]\n",
        "n_features = 11288 # number of columns in the matrix  =  number of features (distinct elements in the documents)\n",
        "n_rows = 11981 # number rows of the matrix\n",
        "n_elements = 71474 # number of the existing values in the matrix (not empty, to be loaded in the matrix in a sparse way)\n",
        "\n",
        "#path_training = \"/Users/meo/Documents/Didattica/Laboratorio-15-16-Jupyter/\"\n",
        "path_training = \"\"\n",
        "file_name = \"joy_sadness6000.txt\"\n",
        "\n",
        "# declare the row and col arrays with the indexes of the matrix cells (non empty) to be loaded from file\n",
        "# they are needed because the matrix is sparse and we load in the matrix only the elements which are present\n",
        "row = np.empty(n_elements, dtype = int)\n",
        "col = np.empty(n_elements, dtype = int)\n",
        "data = np.empty(n_elements, dtype = int)\n",
        "\n",
        "row_n = 0 # number of current row to be read and managed\n",
        "cur_el = 0 # position in the arrays row, col and data\n",
        "twitter_labels = [] # list of class labels (target array) of the documents (twitter) that will be read from the input file\n",
        "twitter_target = [] # list of 0/1 for class labels\n",
        "\n",
        "with open(path_training + file_name, \"r\") as fi:\n",
        "    for line in fi:\n",
        "        el_list = line.split(',')\n",
        "        l = len(el_list)\n",
        "        last_el = el_list[l-1] # I grab the last element in the list which is the class label\n",
        "        class_name = last_el.strip() # eliminate the '\\n'\n",
        "        twitter_labels.append(class_name)\n",
        "        # twitter_labels contains the labels (Joy/Sadness); twitter_target contains 0/1 for the respective labels\n",
        "        if (class_name == class_labels[0]):\n",
        "           twitter_target.append(0)\n",
        "        else:\n",
        "           twitter_target.append(1)\n",
        "        i = 0 # I start reading all the doc elements from the beginning of the list\n",
        "        while(i<(l-1)):\n",
        "            element_id = int(el_list[i]) # identifier of the element in the document\n",
        "            element_id = element_id-1 # the index starts from 0 (the read id starts from 1)\n",
        "            i = i+1\n",
        "            value_cell = int(el_list[i]) # make access to the following value in the file which is the count of the element in the document\n",
        "            i = i+1\n",
        "            row[cur_el] = row_n # load the data in the three arrays: the first two are the row and col indexes; the last one is the matrix cell value\n",
        "            col[cur_el] = element_id\n",
        "            data[cur_el] = value_cell\n",
        "            cur_el = cur_el+1\n",
        "        row_n = row_n+1\n",
        "fi.close\n",
        "\n",
        "print(\"final n_row = \"+str(row))\n",
        "\n",
        "# loads the matrix by means of the indexes and the values in the three arrays just filled\n",
        "twitter_data = csr_matrix((data, (row, col)), shape = (n_rows, n_features)).toarray()\n",
        "print(\"The resulting matrix:\")\n",
        "print(twitter_data)"
      ],
      "execution_count": 1,
      "outputs": [
        {
          "output_type": "stream",
          "text": [
            "final n_row = [0 0 0 ... 0 0 0]\n",
            "The resulting matrix:\n",
            "[[1 1 1 ... 0 0 0]\n",
            " [0 0 0 ... 0 0 0]\n",
            " [0 0 0 ... 0 0 0]\n",
            " ...\n",
            " [0 0 0 ... 0 0 1]\n",
            " [0 0 0 ... 0 0 0]\n",
            " [0 1 0 ... 0 0 0]]\n"
          ],
          "name": "stdout"
        }
      ]
    },
    {
      "cell_type": "code",
      "metadata": {
        "id": "izQ8g7ZtstuO",
        "outputId": "5ea6dfe4-62f5-40ee-df51-74a5e773d5b0",
        "colab": {
          "base_uri": "https://localhost:8080/"
        }
      },
      "source": [
        "print(f'Size of labels , {len(twitter_labels)}')\n",
        "print(f'Size of targets, {len(twitter_target)}')\n",
        "\n",
        "print(f'Shape of the resulting matrxix, {twitter_data.shape}')"
      ],
      "execution_count": 2,
      "outputs": [
        {
          "output_type": "stream",
          "text": [
            "Size of labels , 11981\n",
            "Size of targets, 11981\n",
            "Shape of the resulting matrxix, (11981, 11288)\n"
          ],
          "name": "stdout"
        }
      ]
    },
    {
      "cell_type": "markdown",
      "metadata": {
        "collapsed": true,
        "id": "8gXul2gVstuO"
      },
      "source": [
        "# Write a program in the following cell that splits the data matrix in training and test set (by random selection) and predicts the class (Joy/Sadness) of the messages on the basis of the words. \n",
        "### Consider the two possible models:\n",
        "## 1. multivariate Bernoulli \n",
        "## 2. multinomial Bernoulli.\n",
        "\n",
        "## Then Find the accuracy of the models and test is the observed differences are significant."
      ]
    },
    {
      "cell_type": "code",
      "metadata": {
        "id": "xfIjEgjJstuO"
      },
      "source": [
        "from sklearn.model_selection import train_test_split\n",
        "from sklearn.linear_model import LogisticRegression\n",
        "from sklearn.naive_bayes import BernoulliNB, MultinomialNB\n",
        "\n",
        "# Plot\n",
        "import matplotlib.pyplot as plt\n",
        "\n",
        "# Metrics\n",
        "from sklearn.metrics import accuracy_score\n",
        "from sklearn.metrics import f1_score, plot_roc_curve\n",
        "\n",
        "# Model selection\n",
        "from sklearn.model_selection import cross_val_score"
      ],
      "execution_count": 3,
      "outputs": []
    },
    {
      "cell_type": "code",
      "metadata": {
        "id": "S4KHU8z9stuO"
      },
      "source": [
        "def scoring(y_test, y_pred):\n",
        "    acc_score = accuracy_score(y_test, y_pred)\n",
        "    print(\"Accuracy score: \" + str(acc_score))\n",
        "    f1 = f1_score(y_test, y_pred, average='macro') # what is this score = macro avg between recall and precison\n",
        "    print(\"F1 score: \" + str(f1))"
      ],
      "execution_count": 4,
      "outputs": []
    },
    {
      "cell_type": "code",
      "metadata": {
        "id": "9K7KxpC6stuO"
      },
      "source": [
        "# Split the data\n",
        "X_train, X_test, y_train, y_test = train_test_split(twitter_data, twitter_target, test_size=0.10, random_state=42)\n",
        "\n",
        "# Normalize the data betwenn 0 and 1 cliping it for the BernulliNB\n",
        "X_train_cl = np.clip(X_train, 0, 1)\n",
        "y_train_cl = np.clip(y_train, 0, 1)"
      ],
      "execution_count": 5,
      "outputs": []
    },
    {
      "cell_type": "code",
      "metadata": {
        "id": "RMDHVh5KstuO",
        "outputId": "7526d661-0417-4152-df8e-a6a27160a4ad",
        "colab": {
          "base_uri": "https://localhost:8080/",
          "height": 313
        }
      },
      "source": [
        "bern_clf = BernoulliNB().fit(X=X_train_cl, y=y_train_cl)\n",
        "bern_y_pred = bern_clf.predict(X_test)\n",
        "scoring(y_test, bern_y_pred)\n",
        "\n",
        "bern_disp = plot_roc_curve(bern_clf, X_test, y_test)"
      ],
      "execution_count": 6,
      "outputs": [
        {
          "output_type": "stream",
          "text": [
            "Accuracy score: 0.9499582985821518\n",
            "F1 score: 0.9499540863177227\n"
          ],
          "name": "stdout"
        },
        {
          "output_type": "display_data",
          "data": {
            "image/png": "[encoded data removed]",
            "text/plain": [
              "<Figure size 432x288 with 1 Axes>"
            ]
          },
          "metadata": {
            "tags": [],
            "needs_background": "light"
          }
        }
      ]
    },
    {
      "cell_type": "code",
      "metadata": {
        "id": "JfMopy1qstuP",
        "outputId": "890211ae-688f-4fa1-ef45-48046271b060",
        "colab": {
          "base_uri": "https://localhost:8080/",
          "height": 330
        }
      },
      "source": [
        "multi_clf = MultinomialNB().fit(X=X_train, y=y_train)\n",
        "multi_y_pred = multi_clf.predict(X_test)\n",
        "scoring(y_test, multi_y_pred)\n",
        "\n",
        "ax = plt.gca()\n",
        "multi_disp = plot_roc_curve(multi_clf, X_test, y_test, ax=ax, alpha=0.8)\n",
        "bern_disp.plot(ax=ax, alpha=0.8)"
      ],
      "execution_count": 7,
      "outputs": [
        {
          "output_type": "stream",
          "text": [
            "Accuracy score: 0.9491242702251876\n",
            "F1 score: 0.9491152089442687\n"
          ],
          "name": "stdout"
        },
        {
          "output_type": "execute_result",
          "data": {
            "text/plain": [
              "<sklearn.metrics._plot.roc_curve.RocCurveDisplay at 0x7f9d5ea78828>"
            ]
          },
          "metadata": {
            "tags": []
          },
          "execution_count": 7
        },
        {
          "output_type": "display_data",
          "data": {
            "image/png": "[encoded data removed]",
            "text/plain": [
              "<Figure size 432x288 with 1 Axes>"
            ]
          },
          "metadata": {
            "tags": [],
            "needs_background": "light"
          }
        }
      ]
    },
    {
      "cell_type": "code",
      "metadata": {
        "id": "vnkL-VkxstuP",
        "outputId": "54900798-01ab-4fbc-92f8-dde2052cd1d9",
        "colab": {
          "base_uri": "https://localhost:8080/",
          "height": 330
        }
      },
      "source": [
        "logistic_clf = LogisticRegression(random_state=0).fit(X_train, y_train)\n",
        "logistic_y_pred = logistic_clf.predict(X_test)\n",
        "scoring(y_test, logistic_y_pred)\n",
        "\n",
        "ax = plt.gca()\n",
        "plot_roc_curve(logistic_clf, X_test, y_test, ax=ax, alpha=0.8)\n",
        "multi_disp.plot(ax=ax, alpha=0.8)\n",
        "bern_disp.plot(ax=ax, alpha=0.8)"
      ],
      "execution_count": 8,
      "outputs": [
        {
          "output_type": "stream",
          "text": [
            "Accuracy score: 0.9649708090075062\n",
            "F1 score: 0.9649298011031255\n"
          ],
          "name": "stdout"
        },
        {
          "output_type": "execute_result",
          "data": {
            "text/plain": [
              "<sklearn.metrics._plot.roc_curve.RocCurveDisplay at 0x7f9d5ea78828>"
            ]
          },
          "metadata": {
            "tags": []
          },
          "execution_count": 8
        },
        {
          "output_type": "display_data",
          "data": {
            "image/png": "[encoded data removed]",
            "text/plain": [
              "<Figure size 432x288 with 1 Axes>"
            ]
          },
          "metadata": {
            "tags": [],
            "needs_background": "light"
          }
        }
      ]
    },
    {
      "cell_type": "markdown",
      "metadata": {
        "id": "S0uCHV3-s3y9"
      },
      "source": [
        "## Test statistico per determinare se le differenze osservate siano statisticamente significative tra i classificatori probabilistici sui testi di tipo Multivariato e Multinomiale (e Logistic Regression)\n"
      ]
    },
    {
      "cell_type": "code",
      "metadata": {
        "id": "beXbZir0qoJn"
      },
      "source": [
        "from mlxtend.evaluate import paired_ttest_kfold_cv\n",
        "from scipy.stats import wilcoxon\n",
        "from scipy.stats import ttest_ind,ttest_rel"
      ],
      "execution_count": 30,
      "outputs": []
    },
    {
      "cell_type": "code",
      "metadata": {
        "id": "4jGVed6EstuP",
        "outputId": "a64b9711-468e-4c37-d1e2-95f49f509342",
        "colab": {
          "base_uri": "https://localhost:8080/"
        }
      },
      "source": [
        "FOLD = 10\n",
        "#Bernulli multivariate \n",
        "clf_BNB = BernoulliNB()\n",
        "scores_BNB = cross_val_score(clf_BNB, twitter_data, twitter_target, cv=FOLD)\n",
        "print (\"BernulliNB:\")\n",
        "print (scores_BNB)\n",
        "print(\"Accuracy: %0.2f (+/- %0.2f)\" % (scores_BNB.mean(), scores_BNB.std() * 2))\n",
        "\n",
        "\n",
        "#Bernulli multinomial\n",
        "clf_MNB = MultinomialNB()\n",
        "scores_MNB = cross_val_score(clf_MNB ,twitter_data ,  twitter_target, cv=FOLD)\n",
        "print (\"Multinomial:\")\n",
        "print (scores_MNB)\n",
        "print(\"Accuracy: %0.2f (+/- %0.2f)\" % (scores_MNB.mean(), scores_MNB.std() * 2))\n",
        "\n",
        "\n",
        "#Logistic regression\n",
        "clf_LRG = LogisticRegression(random_state=0)\n",
        "scores_LRG = cross_val_score(clf_LRG ,twitter_data ,  twitter_target, cv=FOLD)\n",
        "print (\"L Regression:\")\n",
        "print (scores_LRG)\n",
        "print(\"Accuracy: %0.2f (+/- %0.2f)\" % (scores_LRG.mean(), scores_LRG.std() * 2))"
      ],
      "execution_count": 9,
      "outputs": [
        {
          "output_type": "stream",
          "text": [
            "BernulliNB:\n",
            "[0.95663053 0.96577629 0.94991653 0.94991653 0.94824708 0.9524207\n",
            " 0.95075125 0.95492487 0.9624374  0.93656093]\n",
            "Accuracy: 0.95 (+/- 0.02)\n",
            "Multinomial:\n",
            "[0.95412844 0.96494157 0.94991653 0.94824708 0.94407346 0.94741235\n",
            " 0.9490818  0.94991653 0.96160267 0.93739566]\n",
            "Accuracy: 0.95 (+/- 0.02)\n",
            "L Regression:\n",
            "[0.96663887 0.96911519 0.96160267 0.96828047 0.97161937 0.95742905\n",
            " 0.96911519 0.96160267 0.97412354 0.95993322]\n",
            "Accuracy: 0.97 (+/- 0.01)\n"
          ],
          "name": "stdout"
        }
      ]
    },
    {
      "cell_type": "markdown",
      "metadata": {
        "id": "uepkBPk7uTya"
      },
      "source": [
        "## T-test"
      ]
    },
    {
      "cell_type": "code",
      "metadata": {
        "id": "eN2h6oc_rRvo",
        "outputId": "1093c901-7320-41f8-ea9f-68d3bfcb4b17",
        "colab": {
          "base_uri": "https://localhost:8080/"
        }
      },
      "source": [
        "t, p = paired_ttest_kfold_cv(estimator1=clf_BNB,\n",
        "                              estimator2=clf_MNB,\n",
        "                              X=np.array(twitter_data) , y=np.array(twitter_target))\n",
        "\n",
        "print('t statistic: %.3f' % t)\n",
        "print('p value: %.3f' % p)"
      ],
      "execution_count": 15,
      "outputs": [
        {
          "output_type": "stream",
          "text": [
            "t statistic: -3.683\n",
            "p value: 0.005\n"
          ],
          "name": "stdout"
        }
      ]
    },
    {
      "cell_type": "code",
      "metadata": {
        "id": "eUzYjUtmtoa7",
        "outputId": "2664f041-ce79-46e0-e6c4-f1a09b0658dc",
        "colab": {
          "base_uri": "https://localhost:8080/"
        }
      },
      "source": [
        "# Versione alternativa\n",
        "t_stats, p_t = ttest_rel(scores_BNB, scores_MNB, axis=0, nan_policy='propagate')\n",
        "\n",
        "print('t statistic: %.3f' % t_stats)\n",
        "print('p value: %.3f' % p_t)\n",
        "\n",
        "alpha = 0.05\n",
        "if p > alpha:\n",
        "  print('Same distribution (fail to reject H0)')\n",
        "else:\n",
        "  print('Different distribution (reject H0)')"
      ],
      "execution_count": 32,
      "outputs": [
        {
          "output_type": "stream",
          "text": [
            "t statistic: 3.212\n",
            "p value: 0.011\n",
            "Different distribution (reject H0)\n"
          ],
          "name": "stdout"
        }
      ]
    },
    {
      "cell_type": "markdown",
      "metadata": {
        "id": "2iaNIJSKuPVW"
      },
      "source": [
        "## Wilcoxon Signed-Rank Test"
      ]
    },
    {
      "cell_type": "code",
      "metadata": {
        "id": "t3ZKY6GkuB0e",
        "outputId": "e72a10a8-b482-4c13-f1f8-08aadc0accff",
        "colab": {
          "base_uri": "https://localhost:8080/"
        }
      },
      "source": [
        "# compare samples Bernulli and multibinomial\n",
        "stat, p_wilcox = wilcoxon(scores_BNB, scores_MNB)\n",
        "print('Statistics: %.3f\\np value: %.3f' % (stat, p))\n",
        "# interpret the result\n",
        "\n",
        "if p_wilcox > alpha:\n",
        "  print('Same distribution (fail to reject H0)')\n",
        "else:\n",
        "  print('Different distribution (reject H0)')"
      ],
      "execution_count": 33,
      "outputs": [
        {
          "output_type": "stream",
          "text": [
            "Statistics: 2.000\n",
            "p value: 0.005\n",
            "Different distribution (reject H0)\n"
          ],
          "name": "stdout"
        },
        {
          "output_type": "stream",
          "text": [
            "/usr/local/lib/python3.6/dist-packages/scipy/stats/morestats.py:2879: UserWarning: Sample size too small for normal approximation.\n",
            "  warnings.warn(\"Sample size too small for normal approximation.\")\n"
          ],
          "name": "stderr"
        }
      ]
    }
  ]
}